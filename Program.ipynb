{
 "cells": [
  {
   "cell_type": "code",
   "execution_count": 1,
   "metadata": {
    "id": "NbY0n0LW2Sp0"
   },
   "outputs": [],
   "source": [
    "import gymnasium as gym\n",
    "import numpy as np\n",
    "from itertools import count\n",
    "from tqdm import tqdm\n",
    "import time\n",
    "import matplotlib.pyplot as plt"
   ]
  },
  {
   "cell_type": "code",
   "execution_count": 2,
   "metadata": {
    "colab": {
     "base_uri": "https://localhost:8080/"
    },
    "id": "u60bwE7_2df2",
    "outputId": "2212f1ac-082c-4be0-996e-68dc109b71a9"
   },
   "outputs": [],
   "source": [
    "# !pip install gymnasium\n",
    "# !pip install gymnasium[box2d]\n",
    "# !pip install jupyterlab\n",
    "# !pip install tqdm"
   ]
  },
  {
   "cell_type": "code",
   "execution_count": 3,
   "metadata": {
    "id": "TUiyrulU2gr5"
   },
   "outputs": [],
   "source": [
    "g_bins = 10\n",
    "Q_track = 0\n",
    "Q = 0"
   ]
  },
  {
   "cell_type": "code",
   "execution_count": 4,
   "metadata": {
    "id": "WNiIm4Ko2joH"
   },
   "outputs": [],
   "source": [
    "\n",
    "\n",
    "def create_bins(n_bins=g_bins, n_dim=4):\n",
    "\n",
    "    bins = [\n",
    "        np.linspace(-4.8, 4.8, n_bins),\n",
    "        np.linspace(-4, 4, n_bins),\n",
    "        np.linspace(-0.418, 0.418, n_bins),\n",
    "        np.linspace(-4, 4, n_bins)\n",
    "    ]\n",
    "\n",
    "    return bins\n",
    "\n"
   ]
  },
  {
   "cell_type": "code",
   "execution_count": 5,
   "metadata": {
    "id": "-NqymCX42me9"
   },
   "outputs": [],
   "source": [
    "def discretize_state(observation, bins):\n",
    "\n",
    "    binned_state = []\n",
    "\n",
    "    for i in range(len(observation)):\n",
    "        d = np.digitize(observation[i], bins[i])\n",
    "        binned_state.append( d - 1)\n",
    "\n",
    "    return tuple(binned_state)"
   ]
  },
  {
   "cell_type": "code",
   "execution_count": 6,
   "metadata": {
    "id": "-kFCoPCE2pvI"
   },
   "outputs": [],
   "source": [
    "def decay_schedule(\n",
    "    init_value, min_value, decay_ratio,\n",
    "    max_steps, log_start = -2, log_base=10):\n",
    "    decay_steps = int(max_steps*decay_ratio)\n",
    "    rem_steps = max_steps - decay_steps\n",
    "    values = np.logspace(\n",
    "      log_start, 0, decay_steps,\n",
    "      base = log_base, endpoint = True)[::-1]\n",
    "    values = (values -values.min())/(values.max() - values.min())\n",
    "    values = (init_value - min_value)*values +min_value\n",
    "    values = np.pad(values, (0, rem_steps), 'edge')\n",
    "\n",
    "    return values"
   ]
  },
  {
   "cell_type": "code",
   "execution_count": 7,
   "metadata": {
    "id": "Sya7H4GV2ssG"
   },
   "outputs": [],
   "source": [
    "def generate_trajectory(\n",
    "    select_action, Q, epsilon,\n",
    "    env, max_steps=200):\n",
    "    done, trajectory = False, []\n",
    "    bins = create_bins(g_bins)\n",
    "\n",
    "    observation,_ = env.reset()\n",
    "    state = discretize_state(observation, bins)\n",
    "\n",
    "    for t in count():\n",
    "        action = select_action(state, Q, epsilon)\n",
    "        observation, reward, done, _, _ = env.step(action)\n",
    "        next_state = discretize_state(observation, bins)\n",
    "        if not done:\n",
    "            if t >= max_steps-1:\n",
    "                break\n",
    "            experience = (state, action,\n",
    "                    reward, next_state, done)\n",
    "            trajectory.append(experience)\n",
    "        else:\n",
    "            experience = (state, action,\n",
    "                    -100, next_state, done)\n",
    "            trajectory.append(experience)\n",
    "            #time.sleep(2)\n",
    "            break\n",
    "        state = next_state\n",
    "\n",
    "    return np.array(trajectory, dtype=object)"
   ]
  },
  {
   "cell_type": "code",
   "execution_count": 8,
   "metadata": {
    "id": "KMBASPJD2xAh"
   },
   "outputs": [],
   "source": [
    "def mc_control (env,n_bins=g_bins, gamma = 1.0,\n",
    "                init_alpha = 0.5,min_alpha = 0.01, alpha_decay_ratio = 0.5,\n",
    "                init_epsilon = 1.0, min_epsilon = 0.1, epsilon_decay_ratio = 0.9,\n",
    "                n_episodes = 3000, max_steps = 200, first_visit = True, init_Q=None):\n",
    "\n",
    "    nA = env.action_space.n\n",
    "    discounts = np.logspace(0, max_steps,\n",
    "                            num = max_steps, base = gamma,\n",
    "                            endpoint = False)\n",
    "    alphas = decay_schedule(init_alpha, min_alpha,\n",
    "                            0.9999, n_episodes)\n",
    "    epsilons = decay_schedule(init_epsilon, min_epsilon,\n",
    "                            0.99, n_episodes)\n",
    "    pi_track = []\n",
    "    global Q_track\n",
    "    global Q\n",
    "\n",
    "\n",
    "    if init_Q is None:\n",
    "        Q = np.zeros([n_bins]*env.observation_space.shape[0] + [env.action_space.n],dtype =np.float64)\n",
    "    else:\n",
    "        Q = init_Q\n",
    "\n",
    "    n_elements = Q.size\n",
    "    n_nonzero_elements = 0\n",
    "\n",
    "    Q_track = np.zeros([n_episodes] + [n_bins]*env.observation_space.shape[0] + [env.action_space.n],dtype =np.float64)\n",
    "    select_action = lambda state, Q, epsilon: np.argmax(Q[tuple(state)]) if np.random.random() > epsilon else np.random.randint(len(Q[tuple(state)]))\n",
    "\n",
    "    progress_bar = tqdm(range(n_episodes), leave=False)\n",
    "    steps_balanced_total = 1\n",
    "    mean_steps_balanced = 0\n",
    "    for e in progress_bar:\n",
    "        trajectory = generate_trajectory(select_action, Q, epsilons[e],\n",
    "                                    env, max_steps)\n",
    "\n",
    "        steps_balanced_total = steps_balanced_total + len(trajectory)\n",
    "        mean_steps_balanced = 0\n",
    "\n",
    "        visited = np.zeros([n_bins]*env.observation_space.shape[0] + [env.action_space.n],dtype =np.float64)\n",
    "        for t, (state, action, reward, _, _) in enumerate(trajectory):\n",
    "            #if visited[tuple(state)][action] and first_visit:\n",
    "            #    continue\n",
    "            visited[tuple(state)][action] = True\n",
    "            n_steps = len(trajectory[t:])\n",
    "            G = np.sum(discounts[:n_steps]*trajectory[t:, 2])\n",
    "            Q[tuple(state)][action] = Q[tuple(state)][action]+alphas[e]*(G - Q[tuple(state)][action])\n",
    "        Q_track[e] = Q\n",
    "        n_nonzero_elements = np.count_nonzero(Q)\n",
    "        pi_track.append(np.argmax(Q, axis=env.observation_space.shape[0]))\n",
    "        if e != 0:\n",
    "            mean_steps_balanced = steps_balanced_total/e\n",
    "        #progress_bar.set_postfix(episode=e, Epsilon=epsilons[e], Steps=f\"{len(trajectory)}\" ,MeanStepsBalanced=f\"{mean_steps_balanced:.2f}\", NonZeroValues=\"{0}/{1}\".format(n_nonzero_elements,n_elements))\n",
    "        progress_bar.set_postfix(episode=e, Epsilon=epsilons[e], StepsBalanced=f\"{len(trajectory)}\" ,MeanStepsBalanced=f\"{mean_steps_balanced:.2f}\")\n",
    "    print(\"Name:Kavinraja D,REG NO:212222240047\")\n",
    "    print(\"mean_steps_balanced={0},steps_balanced_total={1}\".format(mean_steps_balanced,steps_balanced_total))\n",
    "    V = np.max(Q, axis=env.observation_space.shape[0])\n",
    "    pi = lambda s:{s:a for s, a in enumerate(np.argmax(Q, axis=env.observation_space.shape[0]))}[s]\n",
    "\n",
    "    return Q, V, pi"
   ]
  },
  {
   "cell_type": "code",
   "execution_count": 9,
   "metadata": {
    "id": "e7XydQ_o21h5"
   },
   "outputs": [],
   "source": [
    "env = gym.make(\"CartPole-v1\", render_mode=\"human\")\n",
    "observation, info = env.reset(seed=42)"
   ]
  },
  {
   "cell_type": "code",
   "execution_count": 11,
   "metadata": {
    "colab": {
     "base_uri": "https://localhost:8080/",
     "height": 280
    },
    "id": "Pll3yogq24ZD",
    "outputId": "47b02cd0-bf36-4a9a-8319-dd263ae1edc1"
   },
   "outputs": [],
   "source": [
    "#To load the action value function\n",
    "Q = np.load(\"state_action_values.npy\")"
   ]
  },
  {
   "cell_type": "code",
   "execution_count": 12,
   "metadata": {
    "colab": {
     "base_uri": "https://localhost:8080/",
     "height": 159
    },
    "id": "7Iw3Wild275_",
    "outputId": "610d2237-8006-4fea-a9f1-3901322df8a8"
   },
   "outputs": [],
   "source": [
    "#To save the action value function\n",
    "np.save(\"state_action_values.npy\", Q)"
   ]
  },
  {
   "cell_type": "code",
   "execution_count": 13,
   "metadata": {
    "id": "K0sSqmAK3HU-"
   },
   "outputs": [],
   "source": [
    "observation, info = env.reset(seed=42)"
   ]
  },
  {
   "cell_type": "code",
   "execution_count": 14,
   "metadata": {
    "colab": {
     "base_uri": "https://localhost:8080/"
    },
    "id": "ZtTXFNAm3IB_",
    "outputId": "19db33f0-e3db-45c3-a92a-6c8fefefbc73"
   },
   "outputs": [
    {
     "name": "stdout",
     "output_type": "stream",
     "text": [
      "False\n"
     ]
    }
   ],
   "source": [
    "observation, reward, done, _, _ = env.step(0)\n",
    "print(done)"
   ]
  },
  {
   "cell_type": "code",
   "execution_count": 15,
   "metadata": {
    "colab": {
     "base_uri": "https://localhost:8080/"
    },
    "id": "sGbSH8aH3Kzr",
    "outputId": "8c283d83-7482-46a3-db84-7fe11efb5654"
   },
   "outputs": [
    {
     "data": {
      "text/plain": [
       "2"
      ]
     },
     "execution_count": 15,
     "metadata": {},
     "output_type": "execute_result"
    }
   ],
   "source": [
    "env.action_space.n"
   ]
  },
  {
   "cell_type": "code",
   "execution_count": 16,
   "metadata": {
    "colab": {
     "base_uri": "https://localhost:8080/",
     "height": 159
    },
    "id": "Wr5SResy3Nnd",
    "outputId": "5339524b-dae3-4654-da4b-a5eb62260980"
   },
   "outputs": [
    {
     "name": "stderr",
     "output_type": "stream",
     "text": [
      "                                                                                                                                        "
     ]
    },
    {
     "name": "stdout",
     "output_type": "stream",
     "text": [
      "Name:Kavinraja D,REG NO:212222240047\n",
      "mean_steps_balanced=67.8894472361809,steps_balanced_total=13510\n"
     ]
    },
    {
     "name": "stderr",
     "output_type": "stream",
     "text": [
      "\r"
     ]
    }
   ],
   "source": [
    "# To run the MC control without using the previous Q values\n",
    "optimal_Q, optimal_V, optimal_pi = mc_control (env,n_episodes=200)"
   ]
  },
  {
   "cell_type": "code",
   "execution_count": 17,
   "metadata": {
    "colab": {
     "base_uri": "https://localhost:8080/"
    },
    "id": "CV1ZfmNd3RWf",
    "outputId": "4337e7cb-2c82-4485-c41c-794d98948a8c"
   },
   "outputs": [
    {
     "name": "stderr",
     "output_type": "stream",
     "text": [
      "                                                                                                                                        "
     ]
    },
    {
     "name": "stdout",
     "output_type": "stream",
     "text": [
      "Name:Kavinraja D,REG NO:212222240047\n",
      "mean_steps_balanced=87.11557788944724,steps_balanced_total=17336\n"
     ]
    },
    {
     "name": "stderr",
     "output_type": "stream",
     "text": [
      "\r"
     ]
    }
   ],
   "source": [
    "# To run the MC control using the previous Q values and default parameters\n",
    "optimal_Q, optimal_V, optimal_pi = mc_control (env,n_episodes=200,\n",
    "                                    init_alpha = 0.5,min_alpha = 0.01, alpha_decay_ratio = 0.5,\n",
    "                                    init_epsilon = 1.0, min_epsilon = 0.1, epsilon_decay_ratio = 0.9,\n",
    "                                    max_steps=500, init_Q=Q)"
   ]
  },
  {
   "cell_type": "code",
   "execution_count": 18,
   "metadata": {
    "colab": {
     "base_uri": "https://localhost:8080/",
     "height": 366
    },
    "id": "k9-uMOl53UKB",
    "outputId": "7535e9ac-67e9-4b87-c79b-208ec92e733d"
   },
   "outputs": [
    {
     "name": "stderr",
     "output_type": "stream",
     "text": [
      "                                                                                                                                        "
     ]
    },
    {
     "name": "stdout",
     "output_type": "stream",
     "text": [
      "Name:Kavinraja D,REG NO:212222240047\n",
      "mean_steps_balanced=272.7374749498998,steps_balanced_total=136096\n"
     ]
    },
    {
     "name": "stderr",
     "output_type": "stream",
     "text": [
      "\r"
     ]
    }
   ],
   "source": [
    "# To run the MC control using the previous Q values and modified parameters\n",
    "optimal_Q, optimal_V, optimal_pi = mc_control (env,n_episodes=500,\n",
    "                                    init_alpha = 0.01,min_alpha = 0.005, alpha_decay_ratio = 0.5,\n",
    "                                    init_epsilon = 0.1 , min_epsilon = 0.08, epsilon_decay_ratio = 0.9,\n",
    "                                    max_steps=500, init_Q=Q)"
   ]
  },
  {
   "cell_type": "code",
   "execution_count": 19,
   "metadata": {
    "id": "G-bAYnsq3Wzk"
   },
   "outputs": [
    {
     "data": {
      "text/plain": [
       "704"
      ]
     },
     "execution_count": 19,
     "metadata": {},
     "output_type": "execute_result"
    }
   ],
   "source": [
    "np.count_nonzero(Q)"
   ]
  },
  {
   "cell_type": "code",
   "execution_count": 20,
   "metadata": {
    "id": "lM8F1ZyO3ZjT"
   },
   "outputs": [
    {
     "data": {
      "text/plain": [
       "20000"
      ]
     },
     "execution_count": 20,
     "metadata": {},
     "output_type": "execute_result"
    }
   ],
   "source": [
    "np.size(Q)"
   ]
  },
  {
   "cell_type": "code",
   "execution_count": 21,
   "metadata": {
    "id": "hL4nefIF3dto"
   },
   "outputs": [],
   "source": [
    "ep1 = decay_schedule(1, 0.1, 0.99, 50)"
   ]
  },
  {
   "cell_type": "code",
   "execution_count": 22,
   "metadata": {
    "id": "fev-dLu93ek0"
   },
   "outputs": [],
   "source": [
    "x = np.arange(0,50)"
   ]
  },
  {
   "cell_type": "code",
   "execution_count": 23,
   "metadata": {
    "id": "y2e-Ld0V3hRa"
   },
   "outputs": [
    {
     "data": {
      "text/plain": [
       "[<matplotlib.lines.Line2D at 0x7f743c89e3c0>]"
      ]
     },
     "execution_count": 23,
     "metadata": {},
     "output_type": "execute_result"
    },
    {
     "data": {
      "image/png": "[encoded data removed]",
      "text/plain": [
       "<Figure size 640x480 with 1 Axes>"
      ]
     },
     "metadata": {},
     "output_type": "display_data"
    }
   ],
   "source": [
    "plt.plot(x,ep1,label='ep1')"
   ]
  }
 ],
 "metadata": {
  "colab": {
   "provenance": []
  },
  "kernelspec": {
   "display_name": "Python 3 (ipykernel)",
   "language": "python",
   "name": "python3"
  },
  "language_info": {
   "codemirror_mode": {
    "name": "ipython",
    "version": 3
   },
   "file_extension": ".py",
   "mimetype": "text/x-python",
   "name": "python",
   "nbconvert_exporter": "python",
   "pygments_lexer": "ipython3",
   "version": "3.12.6"
  }
 },
 "nbformat": 4,
 "nbformat_minor": 4
}
